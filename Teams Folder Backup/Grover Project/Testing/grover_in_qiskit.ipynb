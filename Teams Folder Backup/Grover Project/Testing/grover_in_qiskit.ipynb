{
 "cells": [
  {
   "cell_type": "markdown",
   "id": "c6708e70",
   "metadata": {},
   "source": [
    "# Aplication of hadamard gate to n number of qubits"
   ]
  },
  {
   "cell_type": "code",
   "execution_count": 1,
   "id": "1dee9b12",
   "metadata": {},
   "outputs": [
    {
     "data": {
      "text/html": [
       "<pre style=\"word-wrap: normal;white-space: pre;background: #fff0;line-height: 1.1;font-family: &quot;Courier New&quot;,Courier,monospace\">     ┌───┐\n",
       "q_0: ┤ H ├\n",
       "     ├───┤\n",
       "q_1: ┤ H ├\n",
       "     ├───┤\n",
       "q_2: ┤ H ├\n",
       "     ├───┤\n",
       "q_3: ┤ H ├\n",
       "     ├───┤\n",
       "q_4: ┤ H ├\n",
       "     ├───┤\n",
       "q_5: ┤ H ├\n",
       "     ├───┤\n",
       "q_6: ┤ H ├\n",
       "     └───┘</pre>"
      ],
      "text/plain": [
       "     ┌───┐\n",
       "q_0: ┤ H ├\n",
       "     ├───┤\n",
       "q_1: ┤ H ├\n",
       "     ├───┤\n",
       "q_2: ┤ H ├\n",
       "     ├───┤\n",
       "q_3: ┤ H ├\n",
       "     ├───┤\n",
       "q_4: ┤ H ├\n",
       "     ├───┤\n",
       "q_5: ┤ H ├\n",
       "     ├───┤\n",
       "q_6: ┤ H ├\n",
       "     └───┘"
      ]
     },
     "execution_count": 1,
     "metadata": {},
     "output_type": "execute_result"
    }
   ],
   "source": [
    "from qiskit import QuantumCircuit, QuantumRegister, ClassicalRegister\n",
    "import matplotlib.pyplot as plt\n",
    "import numpy as np\n",
    "\n",
    "n = 7 #number of qubits\n",
    "grover = QuantumCircuit(n)\n",
    "\n",
    "def hadamard(qcircuit, x): #Apply a H-gate to x number of qubits in qcircuit\n",
    "    for i in range(x):\n",
    "        qcircuit.h(i)\n",
    "    return qcircuit\n",
    "\n",
    "grover = hadamard(grover, n)\n",
    "grover.draw()"
   ]
  },
  {
   "cell_type": "markdown",
   "id": "0496efd5",
   "metadata": {},
   "source": [
    "#### We chose n = 5 qubits but could have chosen different n"
   ]
  },
  {
   "cell_type": "markdown",
   "id": "fd780e7b",
   "metadata": {},
   "source": [
    "# Creation of Oracle"
   ]
  },
  {
   "cell_type": "code",
   "execution_count": 12,
   "id": "ae156aa0",
   "metadata": {},
   "outputs": [
    {
     "name": "stdout",
     "output_type": "stream",
     "text": [
      "[[ 1.  0.  0.  0.  0.  0.  0.  0.]\n",
      " [ 0.  1.  0.  0.  0.  0.  0.  0.]\n",
      " [ 0.  0.  1.  0.  0.  0.  0.  0.]\n",
      " [ 0.  0.  0. -1.  0.  0.  0.  0.]\n",
      " [ 0.  0.  0.  0.  1.  0.  0.  0.]\n",
      " [ 0.  0.  0.  0.  0.  1.  0.  0.]\n",
      " [ 0.  0.  0.  0.  0.  0.  1.  0.]\n",
      " [ 0.  0.  0.  0.  0.  0.  0.  1.]]\n"
     ]
    }
   ],
   "source": [
    "from qiskit import QuantumCircuit, QuantumRegister, ClassicalRegister\n",
    "import matplotlib.pyplot as plt\n",
    "import numpy as np\n",
    "\n",
    "n = 3 #number of qubits\n",
    "grover = QuantumCircuit(n)\n",
    "\n",
    "def hadamard(qcircuit, x): #Apply a H-gate to x number of qubits in qcircuit\n",
    "    for i in range(x):\n",
    "        qcircuit.h(i)\n",
    "    return qcircuit\n",
    "\n",
    "grover = hadamard(grover, n)\n",
    "\n",
    "def oracle(x,i): #x is number of qubits and i is number of solution qubit \n",
    "    #ie if number of qubits is x, then i has to be between 1 and 2^x\n",
    "    #in the case of 3 qubits i=1 000, i=2 001, i=3 010, i=4 011, etc\n",
    "    oracle = np.identity(2**x)\n",
    "    oracle[i,i]= -1\n",
    "    return oracle\n",
    "\n",
    "oraclematrix = oracle(n,3)\n",
    "\n",
    "print(oraclematrix)"
   ]
  },
  {
   "cell_type": "markdown",
   "id": "1e284afb",
   "metadata": {},
   "source": [
    "#### Where we selected this time 3 qubits to be able to see the oracle matrix easier. We wrote the true value to be in qubit 011"
   ]
  },
  {
   "cell_type": "markdown",
   "id": "dbad5cbe",
   "metadata": {},
   "source": [
    "# Implementation of oracle"
   ]
  },
  {
   "cell_type": "code",
   "execution_count": 2,
   "id": "0ac603f0",
   "metadata": {
    "scrolled": true
   },
   "outputs": [
    {
     "data": {
      "text/html": [
       "<pre style=\"word-wrap: normal;white-space: pre;background: #fff0;line-height: 1.1;font-family: &quot;Courier New&quot;,Courier,monospace\">     ┌───┐┌─────────┐\n",
       "q_0: ┤ H ├┤0        ├\n",
       "     ├───┤│         │\n",
       "q_1: ┤ H ├┤1 ORACLE ├\n",
       "     ├───┤│         │\n",
       "q_2: ┤ H ├┤2        ├\n",
       "     └───┘└─────────┘</pre>"
      ],
      "text/plain": [
       "     ┌───┐┌─────────┐\n",
       "q_0: ┤ H ├┤0        ├\n",
       "     ├───┤│         │\n",
       "q_1: ┤ H ├┤1 ORACLE ├\n",
       "     ├───┤│         │\n",
       "q_2: ┤ H ├┤2        ├\n",
       "     └───┘└─────────┘"
      ]
     },
     "execution_count": 2,
     "metadata": {},
     "output_type": "execute_result"
    }
   ],
   "source": [
    "from qiskit import QuantumCircuit, QuantumRegister, ClassicalRegister\n",
    "import matplotlib.pyplot as plt\n",
    "import numpy as np\n",
    "import qiskit.quantum_info as qi\n",
    "\n",
    "n = 3 #number of qubits\n",
    "grover = QuantumCircuit(n)\n",
    "\n",
    "def hadamard(qcircuit, x): #Apply a H-gate to x number of qubits in qcircuit\n",
    "    for i in range(x):\n",
    "        qcircuit.h(i)\n",
    "    return qcircuit\n",
    "\n",
    "grover = hadamard(grover, n)\n",
    "\n",
    "def oracle(x,i): #x is number of qubits and i is number of solution qubit \n",
    "    #ie if number of qubits is x, then i has to be between 1 and 2^x\n",
    "    #in the case of 3 qubits i=1 000, i=2 001, i=3 010, i=4 011, etc\n",
    "    oracle = np.identity(2**x)\n",
    "    oracle[i,i]= -1\n",
    "    return oracle\n",
    "\n",
    "oraclematrix = oracle(n,2)\n",
    "\n",
    "oracle_op = qi.Operator(oraclematrix)\n",
    "\n",
    "grover.unitary(oracle_op, range(n), label='ORACLE')\n",
    "\n",
    "grover.draw()\n"
   ]
  },
  {
   "cell_type": "markdown",
   "id": "39b079b1",
   "metadata": {},
   "source": [
    "# Creation of diffusion operator"
   ]
  },
  {
   "cell_type": "code",
   "execution_count": 22,
   "id": "fb82c2f7",
   "metadata": {},
   "outputs": [
    {
     "name": "stdout",
     "output_type": "stream",
     "text": [
      "        ┌───┐┌─────────┐┌───┐┌────┐┌───┐┌─────────┐┌───┐┌────┐┌───┐┌─────────┐»\n",
      "   q_0: ┤ H ├┤0        ├┤ H ├┤0   ├┤ H ├┤0        ├┤ H ├┤0   ├┤ H ├┤0        ├»\n",
      "        ├───┤│         │├───┤│    │├───┤│         │├───┤│    │├───┤│         │»\n",
      "   q_1: ┤ H ├┤1 ORACLE ├┤ H ├┤1 J ├┤ H ├┤1 ORACLE ├┤ H ├┤1 J ├┤ H ├┤1 ORACLE ├»\n",
      "        ├───┤│         │├───┤│    │├───┤│         │├───┤│    │├───┤│         │»\n",
      "   q_2: ┤ H ├┤2        ├┤ H ├┤2   ├┤ H ├┤2        ├┤ H ├┤2   ├┤ H ├┤2        ├»\n",
      "        └───┘└─────────┘└───┘└────┘└───┘└─────────┘└───┘└────┘└───┘└─────────┘»\n",
      "meas: 3/══════════════════════════════════════════════════════════════════════»\n",
      "                                                                              »\n",
      "«        ┌───┐┌────┐┌───┐ ░ ┌─┐      \n",
      "«   q_0: ┤ H ├┤0   ├┤ H ├─░─┤M├──────\n",
      "«        ├───┤│    │├───┤ ░ └╥┘┌─┐   \n",
      "«   q_1: ┤ H ├┤1 J ├┤ H ├─░──╫─┤M├───\n",
      "«        ├───┤│    │├───┤ ░  ║ └╥┘┌─┐\n",
      "«   q_2: ┤ H ├┤2   ├┤ H ├─░──╫──╫─┤M├\n",
      "«        └───┘└────┘└───┘ ░  ║  ║ └╥┘\n",
      "«meas: 3/════════════════════╩══╩══╩═\n",
      "«                            0  1  2 \n",
      "\n",
      "total count: {'101': 93, '001': 102, '100': 89, '110': 101, '000': 111, '010': 77, '011': 350, '111': 101}\n"
     ]
    }
   ],
   "source": [
    "from qiskit import QuantumCircuit, QuantumRegister, ClassicalRegister\n",
    "from qiskit import Aer, transpile\n",
    "from qiskit.tools.visualization import plot_histogram, plot_state_city\n",
    "import qiskit.quantum_info as qi\n",
    "import matplotlib.pyplot as plt\n",
    "import numpy as np\n",
    "import qiskit.quantum_info as qi\n",
    "\n",
    "n = 3 #number of qubits\n",
    "grover = QuantumCircuit(n)\n",
    "simulator = Aer.get_backend('aer_simulator')\n",
    "\n",
    "def hadamard(qcircuit, x): #Apply a H-gate to x number of qubits in qcircuit\n",
    "    for i in range(x):\n",
    "        qcircuit.h(i)\n",
    "    return qcircuit\n",
    "\n",
    "grover = hadamard(grover, n)\n",
    "\n",
    "def oracle(x,i): #x is number of qubits and i is number of solution qubit \n",
    "    #ie if number of qubits is x, then i has to be between 1 and 2^x\n",
    "    #in the case of 3 qubits i=0 000, i=1 001, i=2 010, i=3 011, etc\n",
    "    oracle = np.identity(2**x)\n",
    "    oracle[i,i]= -1\n",
    "    return oracle\n",
    "\n",
    "oraclematrix = oracle(n,3)\n",
    "\n",
    "oracle_op = qi.Operator(oraclematrix)\n",
    "\n",
    "\n",
    "def op_j(x): #creates operator J, x is number of qubits\n",
    "    j = -1*np.identity(2**x)\n",
    "    j[0,0]= 1\n",
    "    return j\n",
    "\n",
    "def diffusion(x,circuit): #x is number of qubits\n",
    "    hadamard(circuit,x)\n",
    "    j_matrix = op_j(x)\n",
    "    j_op = qi.Operator(j_matrix)\n",
    "    circuit.unitary(j_op,range(x),label='J')\n",
    "    hadamard(circuit,x)\n",
    "    return circuit\n",
    "\n",
    "iterations= int(np.ceil(np.sqrt(2**n)))\n",
    "\n",
    "for i in range(iterations):\n",
    "    grover.unitary(oracle_op, range(n), label='ORACLE')\n",
    "    diffusion(n,grover)\n",
    "\n",
    "grover.measure_all()\n",
    "print(grover)\n",
    "\n",
    "job = simulator.run(grover, shots=1024)\n",
    "result = job.result()\n",
    "counts = result.get_counts(grover)\n",
    "print(\"\\ntotal count:\", counts)\n",
    "    "
   ]
  },
  {
   "cell_type": "code",
   "execution_count": 26,
   "id": "81b32a7e",
   "metadata": {},
   "outputs": [
    {
     "data": {
      "image/png": "[encoded data removed]",
      "text/plain": [
       "<Figure size 700x500 with 1 Axes>"
      ]
     },
     "execution_count": 26,
     "metadata": {},
     "output_type": "execute_result"
    }
   ],
   "source": [
    "from qiskit import QuantumCircuit, QuantumRegister, ClassicalRegister\n",
    "from qiskit import Aer, transpile\n",
    "from qiskit.visualization import plot_histogram, plot_state_city\n",
    "import qiskit.quantum_info as qi\n",
    "import matplotlib.pyplot as plt\n",
    "import numpy as np\n",
    "import qiskit.quantum_info as qi\n",
    "\n",
    "counts = []\n",
    "n = 3 #number of qubits\n",
    "grover = QuantumCircuit(n)\n",
    "simulator = Aer.get_backend('aer_simulator')\n",
    "\n",
    "def hadamard(qcircuit, x): #Apply a H-gate to x number of qubits in qcircuit\n",
    "    for i in range(x):\n",
    "        qcircuit.h(i)\n",
    "    return qcircuit\n",
    "\n",
    "grover = hadamard(grover, n)\n",
    "\n",
    "def oracle(x,i): #x is number of qubits and i is number of solution qubit \n",
    "    #ie if number of qubits is x, then i has to be between 1 and 2^x\n",
    "    #in the case of 3 qubits i=0 000, i=1 001, i=2 010, i=3 011, etc\n",
    "    oracle = np.identity(2**x)\n",
    "    oracle[i,i]= -1\n",
    "    return oracle\n",
    "\n",
    "oraclematrix = oracle(n,3)\n",
    "\n",
    "oracle_op = qi.Operator(oraclematrix)\n",
    "\n",
    "\n",
    "def op_j(x): #creates operator J, x is number of qubits\n",
    "    j = -1*np.identity(2**x)\n",
    "    j[0,0]= 1\n",
    "    return j\n",
    "\n",
    "def diffusion(x,circuit): #x is number of qubits\n",
    "    hadamard(circuit,x)\n",
    "    j_matrix = op_j(x)\n",
    "    j_op = qi.Operator(j_matrix)\n",
    "    circuit.unitary(j_op,range(x),label='J')\n",
    "    hadamard(circuit,x)\n",
    "    return circuit\n",
    "\n",
    "iterations= int(np.ceil(np.sqrt(2**n)))\n",
    "\n",
    "for i in range(iterations):\n",
    "    grover.unitary(oracle_op, range(n), label='ORACLE')\n",
    "    diffusion(n,grover)\n",
    "\n",
    "grover.measure_all()\n",
    "\n",
    "for i in range(4):\n",
    "    job = simulator.run(grover, shots=10000)\n",
    "    result = job.result()\n",
    "    c = result.get_counts(grover)\n",
    "    counts.append(c)\n",
    "\n",
    "\n",
    "legend = ['First execution', 'Second execution', 'Third execution', 'Fourth execution']\n",
    "plot_histogram([counts[0], counts[1], counts[2], counts[3]], legend=legend, figsize=(7, 5), bar_labels=False)\n"
   ]
  },
  {
   "cell_type": "code",
   "execution_count": null,
   "id": "ed6669dd",
   "metadata": {},
   "outputs": [],
   "source": []
  }
 ],
 "metadata": {
  "kernelspec": {
   "display_name": "Python 3 (ipykernel)",
   "language": "python",
   "name": "python3"
  },
  "language_info": {
   "codemirror_mode": {
    "name": "ipython",
    "version": 3
   },
   "file_extension": ".py",
   "mimetype": "text/x-python",
   "name": "python",
   "nbconvert_exporter": "python",
   "pygments_lexer": "ipython3",
   "version": "3.9.13"
  }
 },
 "nbformat": 4,
 "nbformat_minor": 5
}
